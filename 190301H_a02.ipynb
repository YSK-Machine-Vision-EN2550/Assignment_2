{
 "cells": [
  {
   "cell_type": "markdown",
   "id": "e0cfbe3f",
   "metadata": {},
   "source": [
    "# Assignment 2"
   ]
  },
  {
   "cell_type": "markdown",
   "id": "23894eda",
   "metadata": {},
   "source": [
    "# Karunanayaka Y.S (190301H)"
   ]
  },
  {
   "cell_type": "markdown",
   "id": "fc97cadb",
   "metadata": {},
   "source": [
    "Github Repository: https://github.com/YSK-Machine-Vision-EN2550/Assignment_2.git"
   ]
  },
  {
   "cell_type": "code",
   "execution_count": null,
   "id": "5ce5fa30",
   "metadata": {},
   "outputs": [],
   "source": [
    "import numpy as np\n",
    "from scipy . optimize import minimize\n",
    "from scipy import linalg\n",
    "import matplotlib . pyplot as plt"
   ]
  },
  {
   "cell_type": "code",
   "execution_count": 7,
   "id": "5c14ebbc",
   "metadata": {},
   "outputs": [],
   "source": [
    "N = 100\n",
    "half_n = N // 2\n",
    "r = 10\n",
    "s = r /16\n",
    "t = np . random . uniform (0 , 2*np . pi , half_n )\n",
    "n = s*np . random . randn ( half_n )\n",
    "x , y = ( r + n)*np . cos ( t ) , ( r + n)*np . sin ( t )\n",
    "X_circ = np . hstack ( ( x . reshape ( half_n , 1 ) , y . reshape ( half_n , 1 ) ) )\n",
    "m, b = -1, 2\n",
    "x = np . linspace (-12, 12 , half_n )\n",
    "y = m*x + b + s*np . random . randn ( half_n )\n",
    "X_line = np . hstack ( ( x . reshape ( half_n , 1 ) , y . reshape ( half_n , 1 ) ) )\n",
    "X = np . vstack ( ( X_circ , X_line ) )"
   ]
  },
  {
   "cell_type": "code",
   "execution_count": 12,
   "id": "1479ec35",
   "metadata": {},
   "outputs": [],
   "source": [
    "# calculate the best fit circle\n",
    "probability = 0.90\n",
    "outlier_ratio = 0.40\n",
    "trsh_dist = 1\n",
    "s = 3\n",
    "Itterations = int(np.log(1-probability)/np.log(1-(1-outlier_ratio)**s))"
   ]
  },
  {
   "cell_type": "code",
   "execution_count": 61,
   "id": "83ab1b3c",
   "metadata": {},
   "outputs": [
    {
     "name": "stdout",
     "output_type": "stream",
     "text": [
      "[-7.64165689]\n",
      "[-0.43587947] [-0.56595828] [9.3406685]\n"
     ]
    }
   ],
   "source": [
    "def RANSAC(X_circ):\n",
    "    # get three random points from the random samples\n",
    "    r_points = [X_circ[np.random.randint(X_circ.shape[0])] for _ in range(3)]\n",
    "    x, y = np.hsplit(np.array(r_points), 2)\n",
    "    \n",
    "    \n",
    "    f = ((x[0]**2-x[1]**2+y[0]**2-y[1]**2)*(x[0]-x[2])-(x[0]**2-x[2]**2+y[0]**2-y[2]**2)*(x[0]-x[1]))/(2*((y[0]-y[2])*(x[0]-x[1])-(y[0]-y[1])*(x[0]-x[2])))\n",
    "    g = ((x[0]**2-x[1]**2+y[0]**2-y[1]**2)*(y[0]-y[2])-(x[0]**2-x[2]**2+y[0]**2-y[2]**2)*(y[0]-y[1]))/(2*((y[0]-y[1])*(x[0]-x[2])-(y[0]-y[2])*(x[0]-x[1])))\n",
    "\n",
    "    a, b = -g, -f\n",
    "    r = np.sqrt((x[0] - a)**2 + (y[0] - b)**2)\n",
    "    \n",
    "    print(a,b,r)\n",
    "    \n",
    "RANSAC(X_circ)"
   ]
  },
  {
   "cell_type": "code",
   "execution_count": 41,
   "id": "b7f70b8c",
   "metadata": {},
   "outputs": [],
   "source": [
    "p = [(1,1),(2,4),(5,3)]"
   ]
  },
  {
   "cell_type": "code",
   "execution_count": 45,
   "id": "ec17b739",
   "metadata": {},
   "outputs": [],
   "source": [
    "A, B = (p[1][1] - p[0][1]) / (p[1][0] - p[0][0]), (p[2][1] - p[1][1]) / (p[2][0] - p[1][0])\n",
    "P, Q, R, S = p[1][1] + p[0][1], p[2][1] + p[1][1], p[1][0] + p[0][0], p[2][0] + p[1][0]\n",
    "\n",
    "\n",
    "b = (p[0][0] - p[2][0]) * (A*P - B*Q) / (2 * (A - B))"
   ]
  },
  {
   "cell_type": "code",
   "execution_count": 46,
   "id": "f06d35c7",
   "metadata": {},
   "outputs": [
    {
     "data": {
      "text/plain": [
       "-10.399999999999999"
      ]
     },
     "execution_count": 46,
     "metadata": {},
     "output_type": "execute_result"
    }
   ],
   "source": [
    "b"
   ]
  },
  {
   "cell_type": "code",
   "execution_count": 66,
   "id": "14b6de97",
   "metadata": {},
   "outputs": [],
   "source": [
    "a = np.array([[1,2],[3,4],[5,6]])"
   ]
  },
  {
   "cell_type": "code",
   "execution_count": 72,
   "id": "56f81b28",
   "metadata": {},
   "outputs": [
    {
     "ename": "ValueError",
     "evalue": "array split does not result in an equal division",
     "output_type": "error",
     "traceback": [
      "\u001b[1;31m---------------------------------------------------------------------------\u001b[0m",
      "\u001b[1;31mValueError\u001b[0m                                Traceback (most recent call last)",
      "Input \u001b[1;32mIn [72]\u001b[0m, in \u001b[0;36m<module>\u001b[1;34m\u001b[0m\n\u001b[1;32m----> 1\u001b[0m a, b \u001b[38;5;241m=\u001b[39m \u001b[43mnp\u001b[49m\u001b[38;5;241;43m.\u001b[39;49m\u001b[43mhsplit\u001b[49m\u001b[43m(\u001b[49m\u001b[43ma\u001b[49m\u001b[43m,\u001b[49m\u001b[43m \u001b[49m\u001b[38;5;241;43m2\u001b[39;49m\u001b[43m)\u001b[49m\u001b[38;5;241m.\u001b[39mT\n",
      "File \u001b[1;32m<__array_function__ internals>:180\u001b[0m, in \u001b[0;36mhsplit\u001b[1;34m(*args, **kwargs)\u001b[0m\n",
      "File \u001b[1;32mC:\\Python310\\lib\\site-packages\\numpy\\lib\\shape_base.py:940\u001b[0m, in \u001b[0;36mhsplit\u001b[1;34m(ary, indices_or_sections)\u001b[0m\n\u001b[0;32m    938\u001b[0m     \u001b[38;5;28;01mraise\u001b[39;00m \u001b[38;5;167;01mValueError\u001b[39;00m(\u001b[38;5;124m'\u001b[39m\u001b[38;5;124mhsplit only works on arrays of 1 or more dimensions\u001b[39m\u001b[38;5;124m'\u001b[39m)\n\u001b[0;32m    939\u001b[0m \u001b[38;5;28;01mif\u001b[39;00m ary\u001b[38;5;241m.\u001b[39mndim \u001b[38;5;241m>\u001b[39m \u001b[38;5;241m1\u001b[39m:\n\u001b[1;32m--> 940\u001b[0m     \u001b[38;5;28;01mreturn\u001b[39;00m \u001b[43msplit\u001b[49m\u001b[43m(\u001b[49m\u001b[43mary\u001b[49m\u001b[43m,\u001b[49m\u001b[43m \u001b[49m\u001b[43mindices_or_sections\u001b[49m\u001b[43m,\u001b[49m\u001b[43m \u001b[49m\u001b[38;5;241;43m1\u001b[39;49m\u001b[43m)\u001b[49m\n\u001b[0;32m    941\u001b[0m \u001b[38;5;28;01melse\u001b[39;00m:\n\u001b[0;32m    942\u001b[0m     \u001b[38;5;28;01mreturn\u001b[39;00m split(ary, indices_or_sections, \u001b[38;5;241m0\u001b[39m)\n",
      "File \u001b[1;32m<__array_function__ internals>:180\u001b[0m, in \u001b[0;36msplit\u001b[1;34m(*args, **kwargs)\u001b[0m\n",
      "File \u001b[1;32mC:\\Python310\\lib\\site-packages\\numpy\\lib\\shape_base.py:872\u001b[0m, in \u001b[0;36msplit\u001b[1;34m(ary, indices_or_sections, axis)\u001b[0m\n\u001b[0;32m    870\u001b[0m     N \u001b[38;5;241m=\u001b[39m ary\u001b[38;5;241m.\u001b[39mshape[axis]\n\u001b[0;32m    871\u001b[0m     \u001b[38;5;28;01mif\u001b[39;00m N \u001b[38;5;241m%\u001b[39m sections:\n\u001b[1;32m--> 872\u001b[0m         \u001b[38;5;28;01mraise\u001b[39;00m \u001b[38;5;167;01mValueError\u001b[39;00m(\n\u001b[0;32m    873\u001b[0m             \u001b[38;5;124m'\u001b[39m\u001b[38;5;124marray split does not result in an equal division\u001b[39m\u001b[38;5;124m'\u001b[39m) \u001b[38;5;28;01mfrom\u001b[39;00m \u001b[38;5;28mNone\u001b[39m\n\u001b[0;32m    874\u001b[0m \u001b[38;5;28;01mreturn\u001b[39;00m array_split(ary, indices_or_sections, axis)\n",
      "\u001b[1;31mValueError\u001b[0m: array split does not result in an equal division"
     ]
    }
   ],
   "source": [
    "a, b = np.hsplit(a, 2)\n",
    "a = a.T[]"
   ]
  },
  {
   "cell_type": "code",
   "execution_count": 71,
   "id": "c912a29e",
   "metadata": {},
   "outputs": [
    {
     "data": {
      "text/plain": [
       "array([[1, 3, 5]])"
      ]
     },
     "execution_count": 71,
     "metadata": {},
     "output_type": "execute_result"
    }
   ],
   "source": []
  },
  {
   "cell_type": "code",
   "execution_count": 70,
   "id": "e82c95fe",
   "metadata": {},
   "outputs": [
    {
     "data": {
      "text/plain": [
       "array([1])"
      ]
     },
     "execution_count": 70,
     "metadata": {},
     "output_type": "execute_result"
    }
   ],
   "source": [
    "a[0]"
   ]
  },
  {
   "cell_type": "code",
   "execution_count": null,
   "id": "92f83bdc",
   "metadata": {},
   "outputs": [],
   "source": []
  }
 ],
 "metadata": {
  "kernelspec": {
   "display_name": "Python 3",
   "language": "python",
   "name": "python3"
  },
  "language_info": {
   "codemirror_mode": {
    "name": "ipython",
    "version": 3
   },
   "file_extension": ".py",
   "mimetype": "text/x-python",
   "name": "python",
   "nbconvert_exporter": "python",
   "pygments_lexer": "ipython3",
   "version": "3.10.2"
  }
 },
 "nbformat": 4,
 "nbformat_minor": 5
}
